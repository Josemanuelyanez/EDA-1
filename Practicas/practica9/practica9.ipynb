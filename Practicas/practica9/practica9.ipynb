{
 "cells": [
  {
   "cell_type": "code",
   "execution_count": 8,
   "metadata": {},
   "outputs": [
    {
     "name": "stdout",
     "output_type": "stream",
     "text": [
      "10\n",
      "Hola Mundo\n"
     ]
    }
   ],
   "source": [
    "#Inicializando variables\n",
    "X = 10 #variable de tipo entero\n",
    "print(x) #función para imprimir los valores de las variables\n",
    "#Se puede utilizar comillas dobles o simples para crear una cadena \n",
    "cadena = \"Hola Mundo\" \n",
    "#varible de tipo cadena\n",
    "print(cadena)"
   ]
  },
  {
   "cell_type": "code",
   "execution_count": 9,
   "metadata": {},
   "outputs": [
    {
     "name": "stdout",
     "output_type": "stream",
     "text": [
      "10 10 10\n"
     ]
    }
   ],
   "source": [
    "#Asigna un mismo valor a tres variables\n",
    "x = y = z = 10\n",
    "print(x,y,z)"
   ]
  },
  {
   "cell_type": "code",
   "execution_count": 11,
   "metadata": {},
   "outputs": [
    {
     "data": {
      "text/plain": [
       "int"
      ]
     },
     "execution_count": 11,
     "metadata": {},
     "output_type": "execute_result"
    }
   ],
   "source": [
    "#La función type() permite conocer el tipo de una variable\n",
    "type(x)"
   ]
  },
  {
   "cell_type": "code",
   "execution_count": 18,
   "metadata": {},
   "outputs": [
    {
     "name": "stdout",
     "output_type": "stream",
     "text": [
      "hola\n",
      "Mundo\n",
      "holaMundo\n"
     ]
    }
   ],
   "source": [
    "#Inicializando cadenas\n",
    "cadena1 = 'hola'\n",
    "cadena2 = \"Mundo\"\n",
    "print(cadena1)\n",
    "print(cadena2)\n",
    "concat_cadenas = cadena1 + cadena2 #Concatenación de cadenas  \n",
    "print(concat_cadenas)\n"
   ]
  },
  {
   "cell_type": "code",
   "execution_count": 19,
   "metadata": {},
   "outputs": [
    {
     "name": "stdout",
     "output_type": "stream",
     "text": [
      "holaMundo 3\n"
     ]
    }
   ],
   "source": [
    "#Para concatenar un número y una cadena se debe usar la función str()\n",
    "num_cadena = concat_cadenas +' '+ str(3) #Se agrega una cadena vacía para agregar un espacio \n",
    "print(num_cadena) "
   ]
  },
  {
   "cell_type": "code",
   "execution_count": 21,
   "metadata": {},
   "outputs": [
    {
     "name": "stdout",
     "output_type": "stream",
     "text": [
      "hola Mundo 3\n"
     ]
    }
   ],
   "source": [
    "#EL valor de la variable se va a imprimir en el lugar donde se encuentre {} en la cadena \n",
    "num_cadena = \"{} {} {}\".format(cadena1, cadena2, 3)\n",
    "print(num_cadena) "
   ]
  },
  {
   "cell_type": "code",
   "execution_count": 23,
   "metadata": {},
   "outputs": [
    {
     "name": "stdout",
     "output_type": "stream",
     "text": [
      "Cambiando el orden: Mundo 3 hola #\n"
     ]
    }
   ],
   "source": [
    "#Cuando se agrega un númmero dentro de (#), el valor La variable que se encuentra en esa posicón #dentro de La función format(), será impreso.\n",
    "num_cadena = \"Cambiando el orden: {1} {2} {0} #\".format(cadena1, cadena2, 3)\n",
    "print(num_cadena)"
   ]
  },
  {
   "cell_type": "code",
   "execution_count": 24,
   "metadata": {},
   "outputs": [
    {
     "name": "stdout",
     "output_type": "stream",
     "text": [
      "6\n",
      "18\n",
      "6\n",
      "2.0\n",
      "0\n",
      "360\n",
      "4\n"
     ]
    }
   ],
   "source": [
    "print(1+5)\n",
    "print(3*6)\n",
    "print(10-4)\n",
    "print(100/50)\n",
    "print(10 % 2)\n",
    "print((20*3)*6)\n",
    "print(2**2)\n"
   ]
  },
  {
   "attachments": {},
   "cell_type": "markdown",
   "metadata": {},
   "source": [
    "Comparaciones"
   ]
  },
  {
   "cell_type": "code",
   "execution_count": 25,
   "metadata": {},
   "outputs": [
    {
     "name": "stdout",
     "output_type": "stream",
     "text": [
      "False\n",
      "True\n",
      "True\n",
      "False\n",
      "True\n"
     ]
    }
   ],
   "source": [
    "print (7<5) #Falso\n",
    "print (7>5) #Verdadero\n",
    "print ((11*3)+2 == 36 - 1) #Verdadero\n",
    "print ((11 * 3)+2 >= 36) #Falso\n",
    "print (\"curso\" != \"CuRs0\") #Verdadero "
   ]
  },
  {
   "cell_type": "code",
   "execution_count": 29,
   "metadata": {},
   "outputs": [
    {
     "name": "stdout",
     "output_type": "stream",
     "text": [
      "[31, 28, 31, 30, 31, 30, 31, 31, 30, 31, 30, 31]\n",
      "31\n",
      "31\n",
      "31\n"
     ]
    }
   ],
   "source": [
    "#Declaracion de una lista simple\n",
    "lista_diasDelMes = [31,28,31,30,31,30,31,31,30,31,30,31]\n",
    "print (lista_diasDelMes) #imprimir la lista completa\n",
    "print (lista_diasDelMes[0]) #imprimir elemento 1\n",
    "print (lista_diasDelMes [6]) #imprimir elemento 7\n",
    "print (lista_diasDelMes [11]) #imprimir elemento 12\n"
   ]
  },
  {
   "cell_type": "code",
   "execution_count": 31,
   "metadata": {},
   "outputs": [
    {
     "name": "stdout",
     "output_type": "stream",
     "text": [
      "[['cero', 0], ['uno', 1, 'UNO'], ['dos', 2], ['tres', 3], ['cuatro', 4], ['X', 5]]\n",
      "['cero', 0]\n",
      "['uno', 1, 'UNO']\n",
      "dos\n",
      "2\n",
      "uno\n",
      "1\n",
      "UNO\n"
     ]
    }
   ],
   "source": [
    "#Declaracion de listas anidadas\n",
    "lista_numeros = [['cero', 0], ['uno',1, 'UNO'], ['dos',2], ['tres', 3], ['cuatro', 4], ['X',5]]\n",
    "\n",
    "print (lista_numeros)           #imprimir lista completa\n",
    "print (lista_numeros[0])        #imprime el elemento 0 de la lista\n",
    "print (lista_numeros [1])       #imprime el elemento 1 de la lista\n",
    "\n",
    "print (lista_numeros [2][0])    #imprime el primer elemento de la lista en la posicion 2 \n",
    "print (lista_numeros [2] [1])   #imprime el segundo elemento de la lista en la posicion 2 \n",
    "\n",
    "print (lista_numeros [1][0]) \n",
    "print (lista_numeros [1][1]) \n",
    "print (lista_numeros [1][2]) \n",
    "\n",
    "\n",
    "\n"
   ]
  },
  {
   "cell_type": "code",
   "execution_count": 32,
   "metadata": {},
   "outputs": [
    {
     "name": "stdout",
     "output_type": "stream",
     "text": [
      "['cinco', 5]\n"
     ]
    }
   ],
   "source": [
    "# Se cambia el valor de uno de los elementos de la lista\n",
    "lista_numeros [5][0] = \"cinco\"\n",
    "print (lista_numeros [5]) "
   ]
  },
  {
   "cell_type": "code",
   "execution_count": 37,
   "metadata": {},
   "outputs": [
    {
     "name": "stdout",
     "output_type": "stream",
     "text": [
      "(31, 28, 31, 30, 31, 30, 31, 31, 30, 31, 30, 31)\n",
      "31\n",
      "30\n",
      "28\n"
     ]
    }
   ],
   "source": [
    "# Declaracion de una tupla \n",
    "tupla_diasDelMes=(31,28,31,30,31,30,31,31,30,31,30,31)\n",
    "\n",
    "print (tupla_diasDelMes)       #imprimir la tupla completa\n",
    "print (tupla_diasDelMes[0])     #imprimir elemento 1\n",
    "print (tupla_diasDelMes[3])   #imprimir elemento 4\n",
    "print (tupla_diasDelMes[1])    #imprimir elemento 2 \n",
    "\n",
    "\n",
    "\n"
   ]
  },
  {
   "cell_type": "code",
   "execution_count": 39,
   "metadata": {},
   "outputs": [
    {
     "name": "stdout",
     "output_type": "stream",
     "text": [
      "(('cero', 0), ('uno', 1, 'UNO'), ('dos', 2), ('tres', 3), ('cuatro', 4), ('X', 5))\n",
      "('cero', 0)\n",
      "('uno', 1, 'UNO')\n",
      "dos\n",
      "2\n",
      "uno\n",
      "1\n",
      "UNO\n"
     ]
    }
   ],
   "source": [
    "#Declaracion de tuplas anidadas\n",
    "tupla_numeros=(('cero', 0), ('uno',1, 'UNO'), ('dos',2), ('tres', 3), ('cuatro',4), ('X',5))\n",
    "\n",
    "print (tupla_numeros)           #imprimir tupla completa\n",
    "\n",
    "print (tupla_numeros [0])       #imprime el elemento 0 de la tupla \n",
    "print (tupla_numeros [1])       #imprime el elemento 1 de la tupla       \n",
    "\n",
    "print (tupla_numeros [2][0])    #imprime el primer elemento de la tupla en la posicion 2\n",
    "print (tupla_numeros [2][1])    #imprime el segundo elemento de la tupla en la posicion 2 \n",
    "\n",
    "print (tupla_numeros [1][0]) \n",
    "print (tupla_numeros [1][1]) \n",
    "print (tupla_numeros [1][2])\n",
    "\n",
    "\n",
    " "
   ]
  },
  {
   "cell_type": "code",
   "execution_count": 42,
   "metadata": {},
   "outputs": [
    {
     "name": "stdout",
     "output_type": "stream",
     "text": [
      "valor actual 50\n",
      "valor cambiado 50\n"
     ]
    },
    {
     "ename": "TypeError",
     "evalue": "'tuple' object does not support item assignment",
     "output_type": "error",
     "traceback": [
      "\u001b[0;31m---------------------------------------------------------------------------\u001b[0m",
      "\u001b[0;31mTypeError\u001b[0m                                 Traceback (most recent call last)",
      "Cell \u001b[0;32mIn[42], line 5\u001b[0m\n\u001b[1;32m      3\u001b[0m lista_diasDelMes [\u001b[39m0\u001b[39m] \u001b[39m=\u001b[39m \u001b[39m50\u001b[39m\n\u001b[1;32m      4\u001b[0m \u001b[39mprint\u001b[39m(\u001b[39m\"\u001b[39m\u001b[39mvalor cambiado \u001b[39m\u001b[39m{}\u001b[39;00m\u001b[39m\"\u001b[39m\u001b[39m.\u001b[39mformat(lista_diasDelMes[\u001b[39m0\u001b[39m]))\n\u001b[0;32m----> 5\u001b[0m tupla_diasDelMes [\u001b[39m0\u001b[39;49m] \u001b[39m=\u001b[39m \u001b[39m50\u001b[39m \u001b[39m#Esta asignación manda un error, ya que no se pueden cambiar los valores \u001b[39;00m\n",
      "\u001b[0;31mTypeError\u001b[0m: 'tuple' object does not support item assignment"
     ]
    }
   ],
   "source": [
    "#Probando la mutabilidad de las listas vs la no mutabilidad de las tuplas \n",
    "print(\"valor actual {}\".format(lista_diasDelMes[0]))\n",
    "lista_diasDelMes [0] = 50\n",
    "print(\"valor cambiado {}\".format(lista_diasDelMes[0]))\n",
    "tupla_diasDelMes [0] = 50 #Esta asignación manda un error, ya que no se pueden cambiar los valores "
   ]
  },
  {
   "cell_type": "code",
   "execution_count": 47,
   "metadata": {},
   "outputs": [
    {
     "name": "stdout",
     "output_type": "stream",
     "text": [
      "planeta(nombre='Mercurio', numero=1)\n",
      "Mercurio 1\n",
      "Venus 2\n",
      "Campos de la tupla: ('nombre', 'numero')\n"
     ]
    }
   ],
   "source": [
    "\n",
    "#Se debe importat la librería para hacer uso de namedtuple\n",
    "from collections import namedtuple\n",
    "#Se crea la tupla con nombre\n",
    "#El primer argumento es el nombre de la tupla, mientras que el segundo argumento son los campos \n",
    "#p es la referencia a la tupla\n",
    "planeta = namedtuple ( 'planeta', ['nombre', 'numero'])\n",
    "\n",
    "#Se crea el planeta 1 y se agregan a la tupla los valores correspondientes a los campos\n",
    "\n",
    "planeta1= planeta( 'Mercurio', 1)\n",
    "print (planeta1)\n",
    "\n",
    "#Se crea el planeta 2\n",
    "\n",
    "planeta2 = planeta( 'Venus', 2)\n",
    "\n",
    "#Se imprimen los valores de los campos\n",
    "#Usando la referencia se llama a cada uno de sus campos\n",
    "\n",
    "print (planeta1. nombre, planeta1.numero)\n",
    "#Se obtienen los valores por el orden de los campos\n",
    "\n",
    "print (planeta2[0], planeta2[1])\n",
    "print('Campos de la tupla: {}'.format(planeta1._fields)) \n"
   ]
  },
  {
   "attachments": {},
   "cell_type": "markdown",
   "metadata": {},
   "source": [
    "Diccionarios"
   ]
  },
  {
   "cell_type": "code",
   "execution_count": 48,
   "metadata": {},
   "outputs": [
    {
     "name": "stdout",
     "output_type": "stream",
     "text": [
      "{'hidrogeno': 1, 'helio': 2, 'carbono': 6}\n",
      "1\n"
     ]
    }
   ],
   "source": [
    "#creando un diccionario\n",
    "elementos = {'hidrogeno': 1, 'helio': 2, 'carbono': 6}\n",
    "print(elementos)\n",
    "print(elementos['hidrogeno'])"
   ]
  },
  {
   "cell_type": "code",
   "execution_count": 50,
   "metadata": {},
   "outputs": [
    {
     "name": "stdout",
     "output_type": "stream",
     "text": [
      "{'hidrogeno': 1, 'helio': 2, 'carbono': 6, 'litio': 3, 'nitrogeno': 8}\n"
     ]
    }
   ],
   "source": [
    "\n",
    "#Se pueen agregar elementos al diccionario\n",
    "elementos['litio'] = 3\n",
    "elementos['nitrogeno'] = 8\n",
    "print (elementos)\n",
    "#Imprimiendo todos los elementos, nótese que los elementos no están ordenado: \n"
   ]
  },
  {
   "cell_type": "code",
   "execution_count": 51,
   "metadata": {},
   "outputs": [
    {
     "name": "stdout",
     "output_type": "stream",
     "text": [
      "{'H': {'name': 'Hydrogen', 'number': 1, 'weight': 1.00794}, 'He': {'name': 'Helium', 'number': 2, 'weight': 4.002602}}\n"
     ]
    }
   ],
   "source": [
    "\n",
    "#Creando un nuevo diccionario\n",
    "elementos2 = {}\n",
    "elementos2['H'] = {'name': 'Hydrogen', 'number': 1, 'weight': 1.00794} \n",
    "elementos2 [ 'He'] = {'name': 'Helium', 'number': 2, 'weight': 4.002602}\n",
    "print (elementos2) \n"
   ]
  },
  {
   "cell_type": "code",
   "execution_count": 52,
   "metadata": {},
   "outputs": [
    {
     "name": "stdout",
     "output_type": "stream",
     "text": [
      "{'name': 'Hydrogen', 'number': 1, 'weight': 1.00794}\n",
      "Hydrogen\n",
      "1\n",
      "4.3\n"
     ]
    }
   ],
   "source": [
    "\n",
    "#Imprimiendo los datos de un elemento del diccionario\n",
    "print (elementos2[ 'H'])\n",
    "print (elementos2 [ 'H']['name'])\n",
    "print (elementos2[ 'H']['number'])\n",
    "elementos2['H']['weight'] = 4.30 #Cambiando el valor de un elemento\n",
    "print (elementos2[ 'H']['weight']) \n"
   ]
  },
  {
   "cell_type": "code",
   "execution_count": 54,
   "metadata": {},
   "outputs": [
    {
     "name": "stdout",
     "output_type": "stream",
     "text": [
      "{'name': 'Hydrogen', 'number': 1, 'weight': 4.3, 'gas noble': True}\n"
     ]
    }
   ],
   "source": [
    "#Agregando elementos a una llave \n",
    "elementos2['H'].update({'gas noble': True}) \n",
    "print (elementos2['H']) "
   ]
  },
  {
   "cell_type": "code",
   "execution_count": 55,
   "metadata": {},
   "outputs": [
    {
     "name": "stdout",
     "output_type": "stream",
     "text": [
      "dict_items([('H', {'name': 'Hydrogen', 'number': 1, 'weight': 4.3, 'gas noble': True}), ('He', {'name': 'Helium', 'number': 2, 'weight': 4.002602})])\n",
      "dict_keys(['H', 'He'])\n"
     ]
    }
   ],
   "source": [
    "#Muestra todos los elementos del diccionario \n",
    "print (elementos2.items())\n",
    "#Muestra todas las llaves del diccionario \n",
    "print (elementos2.keys()) \n"
   ]
  },
  {
   "cell_type": "code",
   "execution_count": null,
   "metadata": {},
   "outputs": [],
   "source": [
    "Funciones"
   ]
  },
  {
   "cell_type": "code",
   "execution_count": 62,
   "metadata": {},
   "outputs": [],
   "source": [
    "#Las funciones pueden recibir n número de parámetros, no se necesita indicar el tipo \n",
    "def imprime_nombre(nombre):\n",
    "    print( \"hola \" +nombre ) #Las cadenas se pueden concatenar con el +"
   ]
  },
  {
   "cell_type": "code",
   "execution_count": 63,
   "metadata": {},
   "outputs": [
    {
     "name": "stdout",
     "output_type": "stream",
     "text": [
      "hola JJ\n"
     ]
    }
   ],
   "source": [
    "#Llamada a la función\n",
    "imprime_nombre (\"JJ\")\n",
    "\n"
   ]
  },
  {
   "cell_type": "code",
   "execution_count": 68,
   "metadata": {},
   "outputs": [],
   "source": [
    "#Definiendo una función que regresa el cuadrado de un número\n",
    "def cuadrado(x):\n",
    "    return x**2\n"
   ]
  },
  {
   "cell_type": "code",
   "execution_count": 69,
   "metadata": {},
   "outputs": [
    {
     "name": "stdout",
     "output_type": "stream",
     "text": [
      "El cuadrado de 5 es 25\n"
     ]
    }
   ],
   "source": [
    "x = 5\n",
    "#La función format() sirve para convertir los parámetros que recibe, en cadenas\n",
    "# #por las llaves de la cadena.\n",
    "print(\"El cuadrado de {} es {}\".format(x, cuadrado (x))) #La función cuadrado() regresa un valor numerico"
   ]
  },
  {
   "cell_type": "code",
   "execution_count": 71,
   "metadata": {},
   "outputs": [],
   "source": [
    "\n",
    "#Definiendo una función que regrese más de un valor\n",
    "def varios (x):\n",
    "    return x**2, X**3, x**4\n"
   ]
  },
  {
   "cell_type": "code",
   "execution_count": 73,
   "metadata": {},
   "outputs": [
    {
     "name": "stdout",
     "output_type": "stream",
     "text": [
      "() () 4\n"
     ]
    }
   ],
   "source": [
    "#Los valores que regresa la función pueden ser guardado en variables separadas por , \n",
    "vall, val2, val3 = varios (2)\n",
    "print(\"() () {}\".format(vall, val2, val3))\n"
   ]
  },
  {
   "cell_type": "code",
   "execution_count": 75,
   "metadata": {},
   "outputs": [],
   "source": [
    "#Función con un parámetro con un valor por defecto\n",
    "def cuadrado_default (x=3):\n",
    "    return x**2"
   ]
  },
  {
   "cell_type": "code",
   "execution_count": 76,
   "metadata": {},
   "outputs": [
    {
     "data": {
      "text/plain": [
       "9"
      ]
     },
     "execution_count": 76,
     "metadata": {},
     "output_type": "execute_result"
    }
   ],
   "source": [
    "#Como la función tiene un valor por defailt, si se manda llamar la función sin especificar \n",
    "#tiene por defecto\n",
    "cuadrado_default() "
   ]
  },
  {
   "cell_type": "code",
   "execution_count": 81,
   "metadata": {},
   "outputs": [
    {
     "name": "stdout",
     "output_type": "stream",
     "text": [
      "4 16\n"
     ]
    }
   ],
   "source": [
    "#La función regresa tres, valores, pero sólo nos interesa el primero y el tercero \n",
    "val4, _, val5 = varios (2)\n",
    "print(\"{} {}\".format(val4, val5)) \n"
   ]
  },
  {
   "attachments": {},
   "cell_type": "markdown",
   "metadata": {},
   "source": [
    "Variables Globales"
   ]
  },
  {
   "cell_type": "code",
   "execution_count": 82,
   "metadata": {},
   "outputs": [],
   "source": [
    "\n",
    "#Se crea una variable en el espacio global de nombres \n",
    "vg = 'Global'\n"
   ]
  },
  {
   "cell_type": "code",
   "execution_count": 84,
   "metadata": {},
   "outputs": [],
   "source": [
    "#Se crea una función que imprime la variable global \n",
    "def funcion_v1():\n",
    "    print (vg)\n"
   ]
  },
  {
   "cell_type": "code",
   "execution_count": 85,
   "metadata": {},
   "outputs": [
    {
     "name": "stdout",
     "output_type": "stream",
     "text": [
      "Global\n",
      "Global\n"
     ]
    }
   ],
   "source": [
    "#Llamada a la función que imprime la variable global \n",
    "funcion_v1()\n",
    "#Imprime la variable global \n",
    "print (vg) \n"
   ]
  },
  {
   "cell_type": "code",
   "execution_count": 87,
   "metadata": {},
   "outputs": [],
   "source": [
    "\n",
    "#Se crea una variable local que tiene el mismo nombre que la variable global \n",
    "def funcion_v2():\n",
    "    vg = \"Local\"\n",
    "    print (vg)\n",
    "\n"
   ]
  },
  {
   "cell_type": "code",
   "execution_count": 88,
   "metadata": {},
   "outputs": [
    {
     "name": "stdout",
     "output_type": "stream",
     "text": [
      "Local\n",
      "Global\n"
     ]
    }
   ],
   "source": [
    "#Llamada a la función\n",
    "funcion_v2 () \n",
    "#Imprime valor local\n",
    "#Imprime la variable global\n",
    "print (vg)\n"
   ]
  },
  {
   "cell_type": "code",
   "execution_count": 95,
   "metadata": {},
   "outputs": [
    {
     "name": "stdout",
     "output_type": "stream",
     "text": [
      "Global\n"
     ]
    }
   ],
   "source": [
    "#Se trata de imprimir el valor de la variable global, a diferencia de la función_v1() \n",
    "# se creó en el espacio local de la funcion_v3() una variable con el mismo nombre \n",
    "# por lo que se reemplaza la variable global\n",
    "def funcion_v3():\n",
    "    print (vg)\n",
    "    vg = \"Local\"\n",
    "print (vg)\n",
    "    "
   ]
  },
  {
   "cell_type": "code",
   "execution_count": 96,
   "metadata": {},
   "outputs": [
    {
     "ename": "UnboundLocalError",
     "evalue": "local variable 'vg' referenced before assignment",
     "output_type": "error",
     "traceback": [
      "\u001b[0;31m---------------------------------------------------------------------------\u001b[0m",
      "\u001b[0;31mUnboundLocalError\u001b[0m                         Traceback (most recent call last)",
      "Cell \u001b[0;32mIn[96], line 2\u001b[0m\n\u001b[1;32m      1\u001b[0m \u001b[39m#Como se tiene una variable local y no se le ha asignado un valor, se genera un error \u001b[39;00m\n\u001b[0;32m----> 2\u001b[0m funcion_v3 ()\n",
      "Cell \u001b[0;32mIn[95], line 5\u001b[0m, in \u001b[0;36mfuncion_v3\u001b[0;34m()\u001b[0m\n\u001b[1;32m      4\u001b[0m \u001b[39mdef\u001b[39;00m \u001b[39mfuncion_v3\u001b[39m():\n\u001b[0;32m----> 5\u001b[0m     \u001b[39mprint\u001b[39m (vg)\n\u001b[1;32m      6\u001b[0m     vg \u001b[39m=\u001b[39m \u001b[39m\"\u001b[39m\u001b[39mLocal\u001b[39m\u001b[39m\"\u001b[39m\n",
      "\u001b[0;31mUnboundLocalError\u001b[0m: local variable 'vg' referenced before assignment"
     ]
    }
   ],
   "source": [
    "#Como se tiene una variable local y no se le ha asignado un valor, se genera un error \n",
    "funcion_v3 ()"
   ]
  },
  {
   "cell_type": "code",
   "execution_count": 99,
   "metadata": {},
   "outputs": [],
   "source": [
    "#Para resolver el problema anterior y especificar que se quiere hacer uso de la \n",
    "# variable global dentro de la función funcion_v4(), se tiene que agregar la \n",
    "# palabra reservada global\n",
    "def funcion_v4():\n",
    "    global vg \n",
    "    print (vg) \n",
    "    vg = \"Local\" \n",
    "    print (vg)"
   ]
  },
  {
   "cell_type": "code",
   "execution_count": 101,
   "metadata": {},
   "outputs": [
    {
     "name": "stdout",
     "output_type": "stream",
     "text": [
      "Global\n",
      "Local\n",
      "Local\n"
     ]
    }
   ],
   "source": [
    "#Al momento de ejecutar la función se imprime el valor que tenía asignado vg\n",
    "#antes de se modificado por la función. Después de asignar el valor, éste es impreso \n",
    "funcion_v4 ()\n",
    "#Se imprime la variable global con su valor modificado\n",
    "print (vg) \n"
   ]
  },
  {
   "attachments": {},
   "cell_type": "markdown",
   "metadata": {},
   "source": [
    "Estructuras de control selectivas"
   ]
  },
  {
   "cell_type": "code",
   "execution_count": 103,
   "metadata": {},
   "outputs": [],
   "source": [
    "def obtenerMayor (param1, param2):\n",
    "    if param1 < param2:\n",
    "        print (\"[]en mayor que []\". format (param2, param1))"
   ]
  },
  {
   "cell_type": "code",
   "execution_count": 105,
   "metadata": {},
   "outputs": [],
   "source": [
    "obtenerMayor(7,5)"
   ]
  }
 ],
 "metadata": {
  "kernelspec": {
   "display_name": "Python 3",
   "language": "python",
   "name": "python3"
  },
  "language_info": {
   "codemirror_mode": {
    "name": "ipython",
    "version": 3
   },
   "file_extension": ".py",
   "mimetype": "text/x-python",
   "name": "python",
   "nbconvert_exporter": "python",
   "pygments_lexer": "ipython3",
   "version": "3.8.16"
  },
  "orig_nbformat": 4
 },
 "nbformat": 4,
 "nbformat_minor": 2
}
